{
 "cells": [
  {
   "cell_type": "markdown",
   "metadata": {},
   "source": [
    "# Importing Libraries"
   ]
  },
  {
   "cell_type": "code",
   "execution_count": 1,
   "metadata": {},
   "outputs": [],
   "source": [
    "import pandas as pd\n",
    "import numpy as np\n",
    "from sklearn.preprocessing import StandardScaler\n",
    "from sklearn.decomposition import PCA\n",
    "from sklearn.model_selection import train_test_split\n",
    "from sklearn.svm import SVR,NuSVR\n",
    "from sklearn.metrics import mean_squared_error as mse\n",
    "from sklearn.metrics import r2_score\n",
    "import matplotlib.pyplot as plt\n",
    "from sklearn.model_selection import GridSearchCV\n",
    "from sklearn.cluster import AgglomerativeClustering,KMeans\n",
    "import random as rn\n",
    "import math"
   ]
  },
  {
   "cell_type": "markdown",
   "metadata": {},
   "source": [
    "# Loading data and removing rows with NaN values"
   ]
  },
  {
   "cell_type": "code",
   "execution_count": 2,
   "metadata": {},
   "outputs": [
    {
     "data": {
      "text/html": [
       "<div>\n",
       "<style scoped>\n",
       "    .dataframe tbody tr th:only-of-type {\n",
       "        vertical-align: middle;\n",
       "    }\n",
       "\n",
       "    .dataframe tbody tr th {\n",
       "        vertical-align: top;\n",
       "    }\n",
       "\n",
       "    .dataframe thead th {\n",
       "        text-align: right;\n",
       "    }\n",
       "</style>\n",
       "<table border=\"1\" class=\"dataframe\">\n",
       "  <thead>\n",
       "    <tr style=\"text-align: right;\">\n",
       "      <th></th>\n",
       "      <th>Open</th>\n",
       "      <th>High</th>\n",
       "      <th>Low</th>\n",
       "      <th>Close</th>\n",
       "      <th>Adj Close</th>\n",
       "      <th>Volume</th>\n",
       "      <th>MA5</th>\n",
       "      <th>MA10</th>\n",
       "      <th>MA20</th>\n",
       "      <th>DIF</th>\n",
       "      <th>MACD</th>\n",
       "      <th>KDJ.K</th>\n",
       "      <th>KDJ.D</th>\n",
       "      <th>PSYMA6</th>\n",
       "      <th>RSI6</th>\n",
       "      <th>RSI12</th>\n",
       "      <th>BIAS6</th>\n",
       "      <th>BIAS24</th>\n",
       "    </tr>\n",
       "  </thead>\n",
       "  <tbody>\n",
       "    <tr>\n",
       "      <th>0</th>\n",
       "      <td>6.095000</td>\n",
       "      <td>6.120000</td>\n",
       "      <td>6.045000</td>\n",
       "      <td>6.085000</td>\n",
       "      <td>6.085000</td>\n",
       "      <td>526018.0000</td>\n",
       "      <td>6.044600</td>\n",
       "      <td>5.959400</td>\n",
       "      <td>6.292526</td>\n",
       "      <td>-0.031992</td>\n",
       "      <td>-0.043737</td>\n",
       "      <td>89.393939</td>\n",
       "      <td>83.310860</td>\n",
       "      <td>0.5</td>\n",
       "      <td>84.653465</td>\n",
       "      <td>53.188776</td>\n",
       "      <td>1.217044</td>\n",
       "      <td>-1.682733</td>\n",
       "    </tr>\n",
       "    <tr>\n",
       "      <th>1</th>\n",
       "      <td>9.117578</td>\n",
       "      <td>9.173124</td>\n",
       "      <td>9.058773</td>\n",
       "      <td>9.118762</td>\n",
       "      <td>9.118762</td>\n",
       "      <td>108976.8483</td>\n",
       "      <td>6.661352</td>\n",
       "      <td>6.284976</td>\n",
       "      <td>6.451814</td>\n",
       "      <td>0.198894</td>\n",
       "      <td>0.012312</td>\n",
       "      <td>98.393131</td>\n",
       "      <td>89.918095</td>\n",
       "      <td>0.5</td>\n",
       "      <td>98.173657</td>\n",
       "      <td>91.513651</td>\n",
       "      <td>39.069954</td>\n",
       "      <td>43.885515</td>\n",
       "    </tr>\n",
       "    <tr>\n",
       "      <th>2</th>\n",
       "      <td>6.090000</td>\n",
       "      <td>6.090000</td>\n",
       "      <td>5.980000</td>\n",
       "      <td>6.003000</td>\n",
       "      <td>6.003000</td>\n",
       "      <td>385568.0000</td>\n",
       "      <td>6.662352</td>\n",
       "      <td>6.293276</td>\n",
       "      <td>6.296026</td>\n",
       "      <td>0.145111</td>\n",
       "      <td>0.042067</td>\n",
       "      <td>6.295956</td>\n",
       "      <td>64.694342</td>\n",
       "      <td>0.5</td>\n",
       "      <td>49.746977</td>\n",
       "      <td>51.057923</td>\n",
       "      <td>-8.373904</td>\n",
       "      <td>-5.514342</td>\n",
       "    </tr>\n",
       "    <tr>\n",
       "      <th>3</th>\n",
       "      <td>6.145000</td>\n",
       "      <td>6.245000</td>\n",
       "      <td>6.130000</td>\n",
       "      <td>6.150000</td>\n",
       "      <td>6.150000</td>\n",
       "      <td>629111.0000</td>\n",
       "      <td>6.679352</td>\n",
       "      <td>6.314776</td>\n",
       "      <td>6.147588</td>\n",
       "      <td>0.112380</td>\n",
       "      <td>0.057451</td>\n",
       "      <td>10.641053</td>\n",
       "      <td>38.443380</td>\n",
       "      <td>0.5</td>\n",
       "      <td>51.181312</td>\n",
       "      <td>52.078950</td>\n",
       "      <td>-6.491757</td>\n",
       "      <td>-3.485434</td>\n",
       "    </tr>\n",
       "    <tr>\n",
       "      <th>4</th>\n",
       "      <td>6.185000</td>\n",
       "      <td>6.185000</td>\n",
       "      <td>6.120000</td>\n",
       "      <td>6.120000</td>\n",
       "      <td>6.120000</td>\n",
       "      <td>185961.0000</td>\n",
       "      <td>6.695352</td>\n",
       "      <td>6.346276</td>\n",
       "      <td>6.147338</td>\n",
       "      <td>0.083226</td>\n",
       "      <td>0.062986</td>\n",
       "      <td>9.754298</td>\n",
       "      <td>8.897102</td>\n",
       "      <td>0.5</td>\n",
       "      <td>50.429921</td>\n",
       "      <td>51.454435</td>\n",
       "      <td>-7.077406</td>\n",
       "      <td>-4.151781</td>\n",
       "    </tr>\n",
       "  </tbody>\n",
       "</table>\n",
       "</div>"
      ],
      "text/plain": [
       "       Open      High       Low     Close  Adj Close       Volume       MA5  \\\n",
       "0  6.095000  6.120000  6.045000  6.085000   6.085000  526018.0000  6.044600   \n",
       "1  9.117578  9.173124  9.058773  9.118762   9.118762  108976.8483  6.661352   \n",
       "2  6.090000  6.090000  5.980000  6.003000   6.003000  385568.0000  6.662352   \n",
       "3  6.145000  6.245000  6.130000  6.150000   6.150000  629111.0000  6.679352   \n",
       "4  6.185000  6.185000  6.120000  6.120000   6.120000  185961.0000  6.695352   \n",
       "\n",
       "       MA10      MA20       DIF      MACD      KDJ.K      KDJ.D  PSYMA6  \\\n",
       "0  5.959400  6.292526 -0.031992 -0.043737  89.393939  83.310860     0.5   \n",
       "1  6.284976  6.451814  0.198894  0.012312  98.393131  89.918095     0.5   \n",
       "2  6.293276  6.296026  0.145111  0.042067   6.295956  64.694342     0.5   \n",
       "3  6.314776  6.147588  0.112380  0.057451  10.641053  38.443380     0.5   \n",
       "4  6.346276  6.147338  0.083226  0.062986   9.754298   8.897102     0.5   \n",
       "\n",
       "        RSI6      RSI12      BIAS6     BIAS24  \n",
       "0  84.653465  53.188776   1.217044  -1.682733  \n",
       "1  98.173657  91.513651  39.069954  43.885515  \n",
       "2  49.746977  51.057923  -8.373904  -5.514342  \n",
       "3  51.181312  52.078950  -6.491757  -3.485434  \n",
       "4  50.429921  51.454435  -7.077406  -4.151781  "
      ]
     },
     "execution_count": 2,
     "metadata": {},
     "output_type": "execute_result"
    }
   ],
   "source": [
    "df=pd.read_csv('C:\\\\Users\\\\abhic\\\\Modelling_in_Operation_Management\\\\2-Market\\\\finalDataset.csv')\n",
    "df = df.replace(0, np.nan)\n",
    "df.dropna(inplace=True)\n",
    "df=df.iloc[:,1:]\n",
    "df=df.reset_index()\n",
    "df=df.drop(['index'],axis=1)\n",
    "df.head()"
   ]
  },
  {
   "cell_type": "markdown",
   "metadata": {},
   "source": [
    "- # features"
   ]
  },
  {
   "cell_type": "code",
   "execution_count": 3,
   "metadata": {},
   "outputs": [
    {
     "data": {
      "text/html": [
       "<div>\n",
       "<style scoped>\n",
       "    .dataframe tbody tr th:only-of-type {\n",
       "        vertical-align: middle;\n",
       "    }\n",
       "\n",
       "    .dataframe tbody tr th {\n",
       "        vertical-align: top;\n",
       "    }\n",
       "\n",
       "    .dataframe thead th {\n",
       "        text-align: right;\n",
       "    }\n",
       "</style>\n",
       "<table border=\"1\" class=\"dataframe\">\n",
       "  <thead>\n",
       "    <tr style=\"text-align: right;\">\n",
       "      <th></th>\n",
       "      <th>Open</th>\n",
       "      <th>High</th>\n",
       "      <th>Low</th>\n",
       "      <th>Close</th>\n",
       "      <th>Volume</th>\n",
       "      <th>MA5</th>\n",
       "      <th>MA10</th>\n",
       "      <th>MA20</th>\n",
       "      <th>DIF</th>\n",
       "      <th>MACD</th>\n",
       "      <th>KDJ.K</th>\n",
       "      <th>KDJ.D</th>\n",
       "      <th>PSYMA6</th>\n",
       "      <th>RSI6</th>\n",
       "      <th>RSI12</th>\n",
       "      <th>BIAS6</th>\n",
       "      <th>BIAS24</th>\n",
       "    </tr>\n",
       "  </thead>\n",
       "  <tbody>\n",
       "    <tr>\n",
       "      <th>0</th>\n",
       "      <td>6.095000</td>\n",
       "      <td>6.120000</td>\n",
       "      <td>6.045000</td>\n",
       "      <td>6.085000</td>\n",
       "      <td>526018.0000</td>\n",
       "      <td>6.044600</td>\n",
       "      <td>5.959400</td>\n",
       "      <td>6.292526</td>\n",
       "      <td>-0.031992</td>\n",
       "      <td>-0.043737</td>\n",
       "      <td>89.393939</td>\n",
       "      <td>83.310860</td>\n",
       "      <td>0.5</td>\n",
       "      <td>84.653465</td>\n",
       "      <td>53.188776</td>\n",
       "      <td>1.217044</td>\n",
       "      <td>-1.682733</td>\n",
       "    </tr>\n",
       "    <tr>\n",
       "      <th>1</th>\n",
       "      <td>9.117578</td>\n",
       "      <td>9.173124</td>\n",
       "      <td>9.058773</td>\n",
       "      <td>9.118762</td>\n",
       "      <td>108976.8483</td>\n",
       "      <td>6.661352</td>\n",
       "      <td>6.284976</td>\n",
       "      <td>6.451814</td>\n",
       "      <td>0.198894</td>\n",
       "      <td>0.012312</td>\n",
       "      <td>98.393131</td>\n",
       "      <td>89.918095</td>\n",
       "      <td>0.5</td>\n",
       "      <td>98.173657</td>\n",
       "      <td>91.513651</td>\n",
       "      <td>39.069954</td>\n",
       "      <td>43.885515</td>\n",
       "    </tr>\n",
       "    <tr>\n",
       "      <th>2</th>\n",
       "      <td>6.090000</td>\n",
       "      <td>6.090000</td>\n",
       "      <td>5.980000</td>\n",
       "      <td>6.003000</td>\n",
       "      <td>385568.0000</td>\n",
       "      <td>6.662352</td>\n",
       "      <td>6.293276</td>\n",
       "      <td>6.296026</td>\n",
       "      <td>0.145111</td>\n",
       "      <td>0.042067</td>\n",
       "      <td>6.295956</td>\n",
       "      <td>64.694342</td>\n",
       "      <td>0.5</td>\n",
       "      <td>49.746977</td>\n",
       "      <td>51.057923</td>\n",
       "      <td>-8.373904</td>\n",
       "      <td>-5.514342</td>\n",
       "    </tr>\n",
       "    <tr>\n",
       "      <th>3</th>\n",
       "      <td>6.145000</td>\n",
       "      <td>6.245000</td>\n",
       "      <td>6.130000</td>\n",
       "      <td>6.150000</td>\n",
       "      <td>629111.0000</td>\n",
       "      <td>6.679352</td>\n",
       "      <td>6.314776</td>\n",
       "      <td>6.147588</td>\n",
       "      <td>0.112380</td>\n",
       "      <td>0.057451</td>\n",
       "      <td>10.641053</td>\n",
       "      <td>38.443380</td>\n",
       "      <td>0.5</td>\n",
       "      <td>51.181312</td>\n",
       "      <td>52.078950</td>\n",
       "      <td>-6.491757</td>\n",
       "      <td>-3.485434</td>\n",
       "    </tr>\n",
       "    <tr>\n",
       "      <th>4</th>\n",
       "      <td>6.185000</td>\n",
       "      <td>6.185000</td>\n",
       "      <td>6.120000</td>\n",
       "      <td>6.120000</td>\n",
       "      <td>185961.0000</td>\n",
       "      <td>6.695352</td>\n",
       "      <td>6.346276</td>\n",
       "      <td>6.147338</td>\n",
       "      <td>0.083226</td>\n",
       "      <td>0.062986</td>\n",
       "      <td>9.754298</td>\n",
       "      <td>8.897102</td>\n",
       "      <td>0.5</td>\n",
       "      <td>50.429921</td>\n",
       "      <td>51.454435</td>\n",
       "      <td>-7.077406</td>\n",
       "      <td>-4.151781</td>\n",
       "    </tr>\n",
       "  </tbody>\n",
       "</table>\n",
       "</div>"
      ],
      "text/plain": [
       "       Open      High       Low     Close       Volume       MA5      MA10  \\\n",
       "0  6.095000  6.120000  6.045000  6.085000  526018.0000  6.044600  5.959400   \n",
       "1  9.117578  9.173124  9.058773  9.118762  108976.8483  6.661352  6.284976   \n",
       "2  6.090000  6.090000  5.980000  6.003000  385568.0000  6.662352  6.293276   \n",
       "3  6.145000  6.245000  6.130000  6.150000  629111.0000  6.679352  6.314776   \n",
       "4  6.185000  6.185000  6.120000  6.120000  185961.0000  6.695352  6.346276   \n",
       "\n",
       "       MA20       DIF      MACD      KDJ.K      KDJ.D  PSYMA6       RSI6  \\\n",
       "0  6.292526 -0.031992 -0.043737  89.393939  83.310860     0.5  84.653465   \n",
       "1  6.451814  0.198894  0.012312  98.393131  89.918095     0.5  98.173657   \n",
       "2  6.296026  0.145111  0.042067   6.295956  64.694342     0.5  49.746977   \n",
       "3  6.147588  0.112380  0.057451  10.641053  38.443380     0.5  51.181312   \n",
       "4  6.147338  0.083226  0.062986   9.754298   8.897102     0.5  50.429921   \n",
       "\n",
       "       RSI12      BIAS6     BIAS24  \n",
       "0  53.188776   1.217044  -1.682733  \n",
       "1  91.513651  39.069954  43.885515  \n",
       "2  51.057923  -8.373904  -5.514342  \n",
       "3  52.078950  -6.491757  -3.485434  \n",
       "4  51.454435  -7.077406  -4.151781  "
      ]
     },
     "execution_count": 3,
     "metadata": {},
     "output_type": "execute_result"
    }
   ],
   "source": [
    "X=pd.DataFrame(df.drop(columns=['Adj Close'],axis=1))\n",
    "X.head()"
   ]
  },
  {
   "cell_type": "markdown",
   "metadata": {},
   "source": [
    "- # target"
   ]
  },
  {
   "cell_type": "code",
   "execution_count": 4,
   "metadata": {},
   "outputs": [
    {
     "data": {
      "text/plain": [
       "0    6.085000\n",
       "1    9.118762\n",
       "2    6.003000\n",
       "3    6.150000\n",
       "4    6.120000\n",
       "Name: Adj Close, dtype: float64"
      ]
     },
     "execution_count": 4,
     "metadata": {},
     "output_type": "execute_result"
    }
   ],
   "source": [
    "y=df['Adj Close']\n",
    "y.head()"
   ]
  },
  {
   "cell_type": "markdown",
   "metadata": {},
   "source": [
    "# Correlation analysis : remove columns with correlation > 0.9"
   ]
  },
  {
   "cell_type": "code",
   "execution_count": 5,
   "metadata": {},
   "outputs": [
    {
     "data": {
      "text/html": [
       "<div>\n",
       "<style scoped>\n",
       "    .dataframe tbody tr th:only-of-type {\n",
       "        vertical-align: middle;\n",
       "    }\n",
       "\n",
       "    .dataframe tbody tr th {\n",
       "        vertical-align: top;\n",
       "    }\n",
       "\n",
       "    .dataframe thead th {\n",
       "        text-align: right;\n",
       "    }\n",
       "</style>\n",
       "<table border=\"1\" class=\"dataframe\">\n",
       "  <thead>\n",
       "    <tr style=\"text-align: right;\">\n",
       "      <th></th>\n",
       "      <th>Open</th>\n",
       "      <th>Volume</th>\n",
       "      <th>DIF</th>\n",
       "      <th>KDJ.K</th>\n",
       "      <th>KDJ.D</th>\n",
       "      <th>PSYMA6</th>\n",
       "      <th>RSI6</th>\n",
       "      <th>RSI12</th>\n",
       "      <th>BIAS6</th>\n",
       "      <th>BIAS24</th>\n",
       "    </tr>\n",
       "  </thead>\n",
       "  <tbody>\n",
       "    <tr>\n",
       "      <th>0</th>\n",
       "      <td>6.095000</td>\n",
       "      <td>526018.0000</td>\n",
       "      <td>-0.031992</td>\n",
       "      <td>89.393939</td>\n",
       "      <td>83.310860</td>\n",
       "      <td>0.5</td>\n",
       "      <td>84.653465</td>\n",
       "      <td>53.188776</td>\n",
       "      <td>1.217044</td>\n",
       "      <td>-1.682733</td>\n",
       "    </tr>\n",
       "    <tr>\n",
       "      <th>1</th>\n",
       "      <td>9.117578</td>\n",
       "      <td>108976.8483</td>\n",
       "      <td>0.198894</td>\n",
       "      <td>98.393131</td>\n",
       "      <td>89.918095</td>\n",
       "      <td>0.5</td>\n",
       "      <td>98.173657</td>\n",
       "      <td>91.513651</td>\n",
       "      <td>39.069954</td>\n",
       "      <td>43.885515</td>\n",
       "    </tr>\n",
       "    <tr>\n",
       "      <th>2</th>\n",
       "      <td>6.090000</td>\n",
       "      <td>385568.0000</td>\n",
       "      <td>0.145111</td>\n",
       "      <td>6.295956</td>\n",
       "      <td>64.694342</td>\n",
       "      <td>0.5</td>\n",
       "      <td>49.746977</td>\n",
       "      <td>51.057923</td>\n",
       "      <td>-8.373904</td>\n",
       "      <td>-5.514342</td>\n",
       "    </tr>\n",
       "    <tr>\n",
       "      <th>3</th>\n",
       "      <td>6.145000</td>\n",
       "      <td>629111.0000</td>\n",
       "      <td>0.112380</td>\n",
       "      <td>10.641053</td>\n",
       "      <td>38.443380</td>\n",
       "      <td>0.5</td>\n",
       "      <td>51.181312</td>\n",
       "      <td>52.078950</td>\n",
       "      <td>-6.491757</td>\n",
       "      <td>-3.485434</td>\n",
       "    </tr>\n",
       "    <tr>\n",
       "      <th>4</th>\n",
       "      <td>6.185000</td>\n",
       "      <td>185961.0000</td>\n",
       "      <td>0.083226</td>\n",
       "      <td>9.754298</td>\n",
       "      <td>8.897102</td>\n",
       "      <td>0.5</td>\n",
       "      <td>50.429921</td>\n",
       "      <td>51.454435</td>\n",
       "      <td>-7.077406</td>\n",
       "      <td>-4.151781</td>\n",
       "    </tr>\n",
       "  </tbody>\n",
       "</table>\n",
       "</div>"
      ],
      "text/plain": [
       "       Open       Volume       DIF      KDJ.K      KDJ.D  PSYMA6       RSI6  \\\n",
       "0  6.095000  526018.0000 -0.031992  89.393939  83.310860     0.5  84.653465   \n",
       "1  9.117578  108976.8483  0.198894  98.393131  89.918095     0.5  98.173657   \n",
       "2  6.090000  385568.0000  0.145111   6.295956  64.694342     0.5  49.746977   \n",
       "3  6.145000  629111.0000  0.112380  10.641053  38.443380     0.5  51.181312   \n",
       "4  6.185000  185961.0000  0.083226   9.754298   8.897102     0.5  50.429921   \n",
       "\n",
       "       RSI12      BIAS6     BIAS24  \n",
       "0  53.188776   1.217044  -1.682733  \n",
       "1  91.513651  39.069954  43.885515  \n",
       "2  51.057923  -8.373904  -5.514342  \n",
       "3  52.078950  -6.491757  -3.485434  \n",
       "4  51.454435  -7.077406  -4.151781  "
      ]
     },
     "execution_count": 5,
     "metadata": {},
     "output_type": "execute_result"
    }
   ],
   "source": [
    "corrmat = X.corr() \n",
    "columns = np.full((corrmat.shape[0],), True, dtype=bool)\n",
    "for i in range(corrmat.shape[0]):\n",
    "    for j in range(i+1, corrmat.shape[0]):\n",
    "        if corrmat.iloc[i,j] >= 0.9:\n",
    "            if columns[j]:\n",
    "                columns[j] = False\n",
    "selected_columns = X.columns[columns]\n",
    "data = X[selected_columns]\n",
    "data.head()"
   ]
  },
  {
   "cell_type": "markdown",
   "metadata": {},
   "source": [
    "# PCA of data after correlation analysis"
   ]
  },
  {
   "cell_type": "code",
   "execution_count": 6,
   "metadata": {},
   "outputs": [],
   "source": [
    "data_sc= StandardScaler().fit_transform(data)\n",
    "pca = PCA(n_components=5)\n",
    "pc = pca.fit_transform(data_sc)\n",
    "pc_data = pd.DataFrame(data = pc\n",
    "             , columns = ['principal component 1', 'principal component 2', 'principal component 3', 'principal component 4', 'principal component 5'])"
   ]
  },
  {
   "cell_type": "code",
   "execution_count": 12,
   "metadata": {},
   "outputs": [],
   "source": [
    "X_train, X_test, y_train, y_test = train_test_split(pc_data, y, test_size=0.2, random_state=1)\n",
    "X_train, X_val, y_train, y_val = train_test_split(X_train, y_train, test_size=0.2, random_state=1)"
   ]
  },
  {
   "cell_type": "markdown",
   "metadata": {},
   "source": [
    "# Brain Storm Optimization"
   ]
  },
  {
   "cell_type": "code",
   "execution_count": 13,
   "metadata": {},
   "outputs": [],
   "source": [
    "def sigmoid(x):\n",
    "    return (1/(1 + math.exp(-x)))"
   ]
  },
  {
   "cell_type": "code",
   "execution_count": 14,
   "metadata": {},
   "outputs": [],
   "source": [
    "def svrCheck(X_train, y_train, X_val, y_val, sol):\n",
    "    clf = NuSVR(kernel = 'linear', gamma = 'auto', C = sol[0], nu = sol[1])\n",
    "    clf.fit(X_train, y_train)\n",
    "    y_pred = clf.predict(X_val)\n",
    "    return (mean_squared_error(y_val, y_pred))"
   ]
  },
  {
   "cell_type": "code",
   "execution_count": 15,
   "metadata": {},
   "outputs": [],
   "source": [
    "def randGenSol(n, d = 2):\n",
    "    S = []\n",
    "    for i in range(n):\n",
    "        l = []\n",
    "        l.append(rn.uniform(1,10))\n",
    "        l.append(rn.random())\n",
    "        S.append(l)\n",
    "    #S = np.random.rand(n,2)\n",
    "    return S"
   ]
  },
  {
   "cell_type": "code",
   "execution_count": 16,
   "metadata": {},
   "outputs": [],
   "source": [
    "def clustProbGen(clus, n, m):\n",
    "    clus = list(clus)\n",
    "    uc = list(set(clus))\n",
    "    p = [1/len(uc)]*len(uc)\n",
    "    for i in range(m):\n",
    "        p[i] = clus.count(i)/n\n",
    "    return p"
   ]
  },
  {
   "cell_type": "code",
   "execution_count": 17,
   "metadata": {},
   "outputs": [],
   "source": [
    "def probCheck(p):\n",
    "    r = rn.random()\n",
    "    if (r < p):\n",
    "        return True\n",
    "    return False"
   ]
  },
  {
   "cell_type": "code",
   "execution_count": 18,
   "metadata": {},
   "outputs": [],
   "source": [
    "def stepFun(t, T, k = 1):\n",
    "    x = ((0.5 * T- t)/k)\n",
    "    res = sigmoid(x) * rn.uniform(0,1)\n",
    "    return res"
   ]
  },
  {
   "cell_type": "code",
   "execution_count": 19,
   "metadata": {},
   "outputs": [],
   "source": [
    "def genNewSol(x, t, T):\n",
    "    n = len(x)\n",
    "    y = [0]*n\n",
    "    for i in range(n):\n",
    "        y[i] = x[i] + stepFun(t, T) * rn.uniform(0,1)\n",
    "    if(y[1] > 1):\n",
    "        y[1] = sigmoid(y[1])\n",
    "    return y"
   ]
  },
  {
   "cell_type": "code",
   "execution_count": 20,
   "metadata": {},
   "outputs": [],
   "source": [
    "def combineTwoSol(x1, x2):\n",
    "    n = len(x1)\n",
    "    x = [0]*n\n",
    "    r = rn.random()\n",
    "    for i in range(n):\n",
    "        x[i] = (r * x1[i]) + ((1-r) * x2[i])\n",
    "    return x"
   ]
  },
  {
   "cell_type": "code",
   "execution_count": 21,
   "metadata": {},
   "outputs": [],
   "source": [
    "def selClustCenters(X_train, y_train, X_val, y_val, S, lab, m):\n",
    "    err = []\n",
    "    cC = [[0,0]]*m\n",
    "    cE = [9999999]*m\n",
    "    best = 0\n",
    "    for i in S:\n",
    "            err.append(svrCheck(X_train, y_train, X_val, y_val, i))\n",
    "    j = 0\n",
    "    for i in lab:\n",
    "        if(err[j] < cE[i]):\n",
    "            cE[i] = err[j]\n",
    "            cC[i] = j\n",
    "        if(cE[i] < cE[best]):\n",
    "            best = i\n",
    "        j += 1\n",
    "    return cC, best"
   ]
  },
  {
   "cell_type": "code",
   "execution_count": 22,
   "metadata": {},
   "outputs": [],
   "source": [
    "def bso(X_train, y_train, X_val, y_val, n, m):\n",
    "    pClustering = 0.5\n",
    "    pGeneration = 0.5\n",
    "    pOneCluster = 0.5\n",
    "    pTwoCLuster = 0.5\n",
    "    if(m == 1):\n",
    "        pGeneration = 1\n",
    "    \n",
    "    T = 10 # max iterations\n",
    "    \n",
    "    Solutions = randGenSol(n)\n",
    "    for t in range(T):\n",
    "        clust = KMeans(n_clusters = m, random_state = 0).fit(Solutions)\n",
    "        #clust = AgglomerativeClustering(n_clusters = m).fit(Solutions)\n",
    "        prob = clustProbGen(clust.labels_, n, m)\n",
    "        #print(clust.labels_)\n",
    "        cCenters, best = selClustCenters(X_train, y_train, X_val, y_val, Solutions, clust.labels_, m)\n",
    "        #print(svrCheck(X_train, y_train, X_val, y_val, Solutions[cCenters[best]]))\n",
    "        if(probCheck(pClustering)):\n",
    "            index = rn.choice(cCenters)\n",
    "            new = randGenSol(1)[0]\n",
    "            Solutions[index] = new\n",
    "        newSols = []\n",
    "        for i in range(n):\n",
    "            flag = 0\n",
    "            if(probCheck(pGeneration)):\n",
    "                flag = 1\n",
    "                selCluster = rn.choices(range(m), prob)[0]\n",
    "                if(probCheck(pOneCluster)):\n",
    "                    #print(\"Case-1\")\n",
    "                    index = cCenters[selCluster]\n",
    "                    new = genNewSol(np.array(Solutions)[index], t, T)\n",
    "                else:\n",
    "                    #print(\"Case-2\")\n",
    "                    sel = list(rn.choice(np.array(Solutions)[clust.labels_ == selCluster]))\n",
    "                    new = genNewSol(sel, t, T)\n",
    "                    index = Solutions.index(sel)\n",
    "            else:\n",
    "                flag = 2\n",
    "                selCluster1, selCluster2 = rn.choices(range(m), prob, k = 2)\n",
    "                if(probCheck(pTwoCLuster)):\n",
    "                    #print(\"Case-3\")\n",
    "                    index1 = cCenters[selCluster1]\n",
    "                    index2 = cCenters[selCluster2]\n",
    "                    comb = combineTwoSol(np.array(Solutions)[index1], Solutions[index2])\n",
    "                    new = genNewSol(comb, t, T)\n",
    "                else:\n",
    "                    #print(\"Case-4\")\n",
    "                    sel1 = list(rn.choice(np.array(Solutions)[clust.labels_ == selCluster1]))\n",
    "                    sel2 = list(rn.choice(np.array(Solutions)[clust.labels_ == selCluster2]))\n",
    "                    comb = combineTwoSol(sel1, sel2)\n",
    "                    new = genNewSol(comb, t, T)\n",
    "                    index1 = Solutions.index(sel1)\n",
    "                    index2 = Solutions.index(sel2)\n",
    "            if(flag == 1):\n",
    "                if(svrCheck(X_train, y_train, X_val, y_val, new) < svrCheck(X_train, y_train, X_val, y_val, Solutions[index])):\n",
    "                    Solutions[index] = new\n",
    "            elif(flag == 2):\n",
    "                if(svrCheck(X_train, y_train, X_val, y_val, new) < svrCheck(X_train, y_train, X_val, y_val, Solutions[index1])):\n",
    "                    Solutions[index1] = new\n",
    "                elif(svrCheck(X_train, y_train, X_val, y_val, new) < svrCheck(X_train, y_train, X_val, y_val, Solutions[index2])):\n",
    "                    Solutions[index2] = new \n",
    "    \n",
    "    cCenters, best = selClustCenters(X_train, y_train, X_val, y_val, Solutions, clust.labels_, m)\n",
    "    print(\"Validation MSE:\", svrCheck(X_train, y_train, X_val, y_val, Solutions[cCenters[best]]))\n",
    "    return Solutions[cCenters[best]]"
   ]
  },
  {
   "cell_type": "markdown",
   "metadata": {},
   "source": [
    "# NuSVR models"
   ]
  },
  {
   "cell_type": "code",
   "execution_count": 38,
   "metadata": {},
   "outputs": [
    {
     "name": "stdout",
     "output_type": "stream",
     "text": [
      "Regressor Score : 0.822147376508133\n",
      "MSE : 0.2979505477464509\n"
     ]
    }
   ],
   "source": [
    "reg_l = NuSVR(gamma='auto')\n",
    "reg_l.fit(X_train,y_train)\n",
    "p_l=reg_l.predict(X_test)\n",
    "print('Regressor Score :',reg_l.score(X_test,y_test))\n",
    "m_l=mse(y_test, p_l)\n",
    "print('MSE :',m_l)"
   ]
  },
  {
   "cell_type": "code",
   "execution_count": 37,
   "metadata": {},
   "outputs": [],
   "source": [
    "def checkK(n):\n",
    "    k = list(range(1,n))\n",
    "    E = []\n",
    "    for i in k:\n",
    "        best = bso(X_train, y_train, X_val, y_val, 10, i)\n",
    "        print(\"Parameters :\", best)\n",
    "        E.append(svrCheck(X_train, y_train, X_test, y_test, best))\n",
    "        print(\"Test MSE:\", E[i-1])\n",
    "    plt.plot(k,E)\n",
    "#for i in range(10):\n",
    "    #checkK(6)"
   ]
  },
  {
   "cell_type": "code",
   "execution_count": 67,
   "metadata": {},
   "outputs": [
    {
     "name": "stdout",
     "output_type": "stream",
     "text": [
      "Validation MSE: 0.0669800864859801\n",
      "Parameters : [6.376130237847938, 0.9030244337169016]\n",
      "Test MSE: 0.1048452951569799\n"
     ]
    }
   ],
   "source": [
    "best = bso(X_train, y_train, X_val, y_val, 10, 3)\n",
    "print(\"Parameters :\", best)\n",
    "print(\"Test MSE:\", svrCheck(X_train, y_train, X_test, y_test, best))"
   ]
  },
  {
   "cell_type": "code",
   "execution_count": 72,
   "metadata": {},
   "outputs": [
    {
     "name": "stdout",
     "output_type": "stream",
     "text": [
      "Regressor Score : 0.9374227723055467\n",
      "MSE : 0.10483353521557319\n"
     ]
    }
   ],
   "source": [
    "# svr with linear kernal\n",
    "reg_l=NuSVR(kernel='linear', C = best[0], nu = best[1])\n",
    "reg_l.fit(X_train,y_train)\n",
    "p_l=reg_l.predict(X_test)\n",
    "print('Regressor Score :',reg_l.score(X_test,y_test))\n",
    "m_l=mse(y_test, p_l)\n",
    "print('MSE :',m_l)"
   ]
  },
  {
   "cell_type": "code",
   "execution_count": 71,
   "metadata": {},
   "outputs": [
    {
     "name": "stdout",
     "output_type": "stream",
     "text": [
      "Validation MSE: 0.06696769362593122\n",
      "Parameters : [7.530235833029731, 0.9088633624406102]\n",
      "Test MSE: 0.10483353521557319\n"
     ]
    }
   ],
   "source": [
    "best = bso(X_train, y_train, X_val, y_val, 10, 3)\n",
    "print(\"Parameters :\", best)\n",
    "print(\"Test MSE:\", svrCheck(X_train, y_train, X_test, y_test, best))"
   ]
  },
  {
   "cell_type": "code",
   "execution_count": 87,
   "metadata": {},
   "outputs": [
    {
     "name": "stdout",
     "output_type": "stream",
     "text": [
      "Regressor Score : 0.9375086140560136\n",
      "MSE : 0.10468972740397643\n"
     ]
    }
   ],
   "source": [
    "# svr with linear kernal\n",
    "reg_l=SVR(kernel='linear')\n",
    "reg_l.fit(X_train,y_train)\n",
    "p_l=reg_l.predict(X_test)\n",
    "print('Regressor Score :',reg_l.score(X_test,y_test))\n",
    "m_l=mse(y_test, p_l)\n",
    "print('MSE :',m_l)"
   ]
  },
  {
   "cell_type": "code",
   "execution_count": 61,
   "metadata": {},
   "outputs": [
    {
     "name": "stdout",
     "output_type": "stream",
     "text": [
      "Regressor Score : 0.9382871855799708\n",
      "MSE : 0.10338541258720095\n"
     ]
    }
   ],
   "source": [
    "# svr with linear kernal\n",
    "reg_l=NuSVR(kernel='linear')\n",
    "gridsearchcv = GridSearchCV(reg_l, {'C':[0, 10], 'nu':[0,1]})\n",
    "reg_l.fit(X_train,y_train)\n",
    "p_l=reg_l.predict(X_test)\n",
    "print('Regressor Score :',reg_l.score(X_test,y_test))\n",
    "m_l=mse(y_test, p_l)\n",
    "print('MSE :',m_l)"
   ]
  },
  {
   "cell_type": "code",
   "execution_count": 73,
   "metadata": {},
   "outputs": [
    {
     "name": "stdout",
     "output_type": "stream",
     "text": [
      "Validation MSE: 0.06690494804300366\n",
      "Parameters : [6.761216940704663, 0.8703308301588357]\n",
      "Test MSE: 0.10423706409986547\n"
     ]
    }
   ],
   "source": [
    "best = bso(X_train, y_train, X_val, y_val, 100, 10)\n",
    "print(\"Parameters :\", best)\n",
    "print(\"Test MSE:\", svrCheck(X_train, y_train, X_test, y_test, best))"
   ]
  },
  {
   "cell_type": "code",
   "execution_count": 74,
   "metadata": {},
   "outputs": [
    {
     "name": "stdout",
     "output_type": "stream",
     "text": [
      "Regressor Score : 0.9377788178089638\n",
      "MSE : 0.10423706409986547\n"
     ]
    }
   ],
   "source": [
    "# svr with linear kernal\n",
    "reg_l=NuSVR(kernel='linear', C = best[0], nu = best[1])\n",
    "reg_l.fit(X_train,y_train)\n",
    "p_l=reg_l.predict(X_test)\n",
    "print('Regressor Score :',reg_l.score(X_test,y_test))\n",
    "m_l=mse(y_test, p_l)\n",
    "print('MSE :',m_l)"
   ]
  },
  {
   "cell_type": "code",
   "execution_count": 75,
   "metadata": {},
   "outputs": [
    {
     "name": "stdout",
     "output_type": "stream",
     "text": [
      "Validation MSE: 0.06695494172767205\n",
      "Parameters : [5.82667970562841, 0.9062638174511335]\n",
      "Test MSE: 0.10481781064128536\n"
     ]
    }
   ],
   "source": [
    "best = bso(X_train, y_train, X_val, y_val, 100, 8)\n",
    "print(\"Parameters :\", best)\n",
    "print(\"Test MSE:\", svrCheck(X_train, y_train, X_test, y_test, best))"
   ]
  },
  {
   "cell_type": "code",
   "execution_count": 76,
   "metadata": {},
   "outputs": [
    {
     "name": "stdout",
     "output_type": "stream",
     "text": [
      "Regressor Score : 0.9374321586175087\n",
      "MSE : 0.10481781064128536\n"
     ]
    }
   ],
   "source": [
    "# svr with linear kernal\n",
    "reg_l=NuSVR(kernel='linear', C = best[0], nu = best[1])\n",
    "reg_l.fit(X_train,y_train)\n",
    "p_l=reg_l.predict(X_test)\n",
    "print('Regressor Score :',reg_l.score(X_test,y_test))\n",
    "m_l=mse(y_test, p_l)\n",
    "print('MSE :',m_l)"
   ]
  },
  {
   "cell_type": "code",
   "execution_count": 24,
   "metadata": {},
   "outputs": [
    {
     "name": "stdout",
     "output_type": "stream",
     "text": [
      "Validation MSE: 0.06690096945448096\n",
      "Parameters : [5.862091352846379, 0.8704365799098428]\n",
      "Test MSE: 0.10422148750842707\n"
     ]
    }
   ],
   "source": [
    "best = bso(X_train, y_train, X_val, y_val, 100, 5)\n",
    "print(\"Parameters :\", best)\n",
    "print(\"Test MSE:\", svrCheck(X_train, y_train, X_test, y_test, best))"
   ]
  },
  {
   "cell_type": "code",
   "execution_count": 25,
   "metadata": {},
   "outputs": [
    {
     "name": "stdout",
     "output_type": "stream",
     "text": [
      "Regressor Score : 0.9377881157870118\n",
      "MSE : 0.10422148750842707\n"
     ]
    }
   ],
   "source": [
    "# svr with linear kernal\n",
    "reg_l=NuSVR(kernel='linear', C = best[0], nu = best[1])\n",
    "reg_l.fit(X_train,y_train)\n",
    "p_l=reg_l.predict(X_test)\n",
    "print('Regressor Score :',reg_l.score(X_test,y_test))\n",
    "m_l=mse(y_test, p_l)\n",
    "print('MSE :',m_l)"
   ]
  },
  {
   "cell_type": "code",
   "execution_count": 26,
   "metadata": {},
   "outputs": [
    {
     "name": "stdout",
     "output_type": "stream",
     "text": [
      "Validation MSE: 0.06695956245358203\n",
      "Parameters : [6.5229372321284895, 0.9123245773592755]\n",
      "Test MSE: 0.1048658747005102\n"
     ]
    }
   ],
   "source": [
    "best = bso(X_train, y_train, X_val, y_val, 20, 5)\n",
    "print(\"Parameters :\", best)\n",
    "print(\"Test MSE:\", svrCheck(X_train, y_train, X_test, y_test, best))"
   ]
  },
  {
   "cell_type": "code",
   "execution_count": 27,
   "metadata": {},
   "outputs": [
    {
     "name": "stdout",
     "output_type": "stream",
     "text": [
      "Regressor Score : 0.9374034682220941\n",
      "MSE : 0.1048658747005102\n"
     ]
    }
   ],
   "source": [
    "# svr with linear kernal\n",
    "reg_l=NuSVR(kernel='linear', C = best[0], nu = best[1])\n",
    "reg_l.fit(X_train,y_train)\n",
    "p_l=reg_l.predict(X_test)\n",
    "print('Regressor Score :',reg_l.score(X_test,y_test))\n",
    "m_l=mse(y_test, p_l)\n",
    "print('MSE :',m_l)"
   ]
  },
  {
   "cell_type": "code",
   "execution_count": null,
   "metadata": {},
   "outputs": [],
   "source": []
  }
 ],
 "metadata": {
  "kernelspec": {
   "display_name": "Python 3",
   "language": "python",
   "name": "python3"
  },
  "language_info": {
   "codemirror_mode": {
    "name": "ipython",
    "version": 3
   },
   "file_extension": ".py",
   "mimetype": "text/x-python",
   "name": "python",
   "nbconvert_exporter": "python",
   "pygments_lexer": "ipython3",
   "version": "3.7.3"
  }
 },
 "nbformat": 4,
 "nbformat_minor": 4
}
